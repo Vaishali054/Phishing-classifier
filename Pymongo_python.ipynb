{
 "cells": [
  {
   "cell_type": "code",
   "execution_count": 2,
   "metadata": {},
   "outputs": [
    {
     "name": "stdout",
     "output_type": "stream",
     "text": [
      "Requirement already satisfied: pymongo in c:\\python310\\lib\\site-packages (4.8.0)\n",
      "Requirement already satisfied: dnspython<3.0.0,>=1.16.0 in c:\\python310\\lib\\site-packages (from pymongo) (2.6.1)\n",
      "Note: you may need to restart the kernel to use updated packages.\n"
     ]
    },
    {
     "name": "stderr",
     "output_type": "stream",
     "text": [
      "WARNING: Ignoring invalid distribution -ip (c:\\python310\\lib\\site-packages)\n",
      "WARNING: Ignoring invalid distribution -ip (c:\\python310\\lib\\site-packages)\n",
      "WARNING: Ignoring invalid distribution -ip (c:\\python310\\lib\\site-packages)\n",
      "WARNING: Ignoring invalid distribution -ip (c:\\python310\\lib\\site-packages)\n",
      "WARNING: Ignoring invalid distribution -ip (c:\\python310\\lib\\site-packages)\n",
      "WARNING: Ignoring invalid distribution -ip (c:\\python310\\lib\\site-packages)\n"
     ]
    }
   ],
   "source": [
    "pip install pymongo"
   ]
  },
  {
   "cell_type": "code",
   "execution_count": 3,
   "metadata": {},
   "outputs": [
    {
     "name": "stdout",
     "output_type": "stream",
     "text": [
      "['AttendanceTracker', 'ConvocationPortal', 'VTP', 'admin', 'config', 'local', 'ticketPortal']\n"
     ]
    }
   ],
   "source": [
    "from pymongo import MongoClient\n",
    "\n",
    "uri='mongodb://localhost:27017/'\n",
    "\n",
    "client=MongoClient(uri)\n",
    "\n",
    "print(client.list_database_names())"
   ]
  },
  {
   "cell_type": "code",
   "execution_count": 5,
   "metadata": {},
   "outputs": [],
   "source": [
    "db=client['demodb']\n",
    "\n",
    "collection=db['democollection']"
   ]
  },
  {
   "cell_type": "code",
   "execution_count": 6,
   "metadata": {},
   "outputs": [
    {
     "name": "stdout",
     "output_type": "stream",
     "text": [
      "Inserted document ID : 66afb532f91f4244f2200a06\n"
     ]
    }
   ],
   "source": [
    "document={\n",
    "    \"name\":\"Vaishali\",\n",
    "    \"mood\": \"happy\"\n",
    "}\n",
    "\n",
    "insert_result=collection.insert_one(document)\n",
    "print(f'Inserted document ID : {insert_result.inserted_id}')"
   ]
  },
  {
   "cell_type": "code",
   "execution_count": 8,
   "metadata": {},
   "outputs": [
    {
     "name": "stdout",
     "output_type": "stream",
     "text": [
      "Inserted document ID : 66afb57ff91f4244f2200a08\n"
     ]
    }
   ],
   "source": [
    "document2={\n",
    "    \"name\":\"Navneet\",\n",
    "    \"mood\": \"happy\"\n",
    "}\n",
    "\n",
    "nsert_result=collection.insert_one(document2)\n",
    "print(f'Inserted document ID : {nsert_result.inserted_id}')"
   ]
  },
  {
   "cell_type": "code",
   "execution_count": 9,
   "metadata": {},
   "outputs": [
    {
     "name": "stdout",
     "output_type": "stream",
     "text": [
      "{'_id': ObjectId('66afb532f91f4244f2200a06'), 'name': 'Vaishali', 'mood': 'happy'}\n",
      "{'_id': ObjectId('66afb56ff91f4244f2200a07'), 'name': 'Navneet', 'mood': 'happy'}\n",
      "{'_id': ObjectId('66afb57ff91f4244f2200a08'), 'name': 'Navneet', 'mood': 'happy'}\n"
     ]
    }
   ],
   "source": [
    "all_documents=collection.find()\n",
    "for doc in all_documents:\n",
    "    print(doc)"
   ]
  },
  {
   "cell_type": "code",
   "execution_count": 12,
   "metadata": {},
   "outputs": [
    {
     "name": "stdout",
     "output_type": "stream",
     "text": [
      "{'_id': ObjectId('66afb56ff91f4244f2200a07'), 'name': 'Navneet', 'mood': 'happy'}\n",
      "{'_id': ObjectId('66afb57ff91f4244f2200a08'), 'name': 'Navneet', 'mood': 'happy'}\n"
     ]
    }
   ],
   "source": [
    "filtered_documents=collection.find({\"name\": \"Navneet\"})\n",
    "for doc in filtered_documents:\n",
    "    print(doc)"
   ]
  },
  {
   "cell_type": "code",
   "execution_count": 13,
   "metadata": {},
   "outputs": [
    {
     "name": "stdout",
     "output_type": "stream",
     "text": [
      "{'_id': ObjectId('66afb532f91f4244f2200a06'), 'name': 'Vaishali', 'mood': 'happy'}\n",
      "{'_id': ObjectId('66afb56ff91f4244f2200a07'), 'name': 'Navneet', 'mood': 'happy'}\n",
      "{'_id': ObjectId('66afb57ff91f4244f2200a08'), 'name': 'Navneet', 'mood': 'happy'}\n"
     ]
    }
   ],
   "source": [
    "sorted_documents=collection.find().sort(\"name\",-1)\n",
    "for doc in sorted_documents:\n",
    "    print(doc)"
   ]
  },
  {
   "cell_type": "code",
   "execution_count": 14,
   "metadata": {},
   "outputs": [
    {
     "name": "stdout",
     "output_type": "stream",
     "text": [
      "{'_id': ObjectId('66afb532f91f4244f2200a06'), 'name': 'Vaishali', 'mood': 'happy'}\n"
     ]
    }
   ],
   "source": [
    "limited_documents=collection.find().limit(1)\n",
    "for doc in limited_documents:\n",
    "    print(doc)"
   ]
  },
  {
   "cell_type": "code",
   "execution_count": 15,
   "metadata": {},
   "outputs": [
    {
     "name": "stdout",
     "output_type": "stream",
     "text": [
      "Matched 2 document(s) and modified 2 documents(s)\n"
     ]
    }
   ],
   "source": [
    "update_result=collection.update_many({\"name\": \"Navneet\"}, {\"$set\": {\"mood\": \"Missing\"}})\n",
    "print(f'Matched {update_result.matched_count} document(s) and modified {update_result.modified_count} documents(s)')"
   ]
  },
  {
   "cell_type": "code",
   "execution_count": 17,
   "metadata": {},
   "outputs": [
    {
     "name": "stdout",
     "output_type": "stream",
     "text": [
      "{'_id': ObjectId('66afb532f91f4244f2200a06'), 'name': 'Vaishali', 'mood': 'happy'}\n",
      "{'_id': ObjectId('66afb56ff91f4244f2200a07'), 'name': 'Navneet', 'mood': 'Missing'}\n",
      "{'_id': ObjectId('66afb57ff91f4244f2200a08'), 'name': 'Navneet', 'mood': 'Missing'}\n"
     ]
    }
   ],
   "source": [
    "documents=collection.find()\n",
    "for doc in documents:\n",
    "    print(doc)"
   ]
  },
  {
   "cell_type": "code",
   "execution_count": null,
   "metadata": {},
   "outputs": [],
   "source": []
  }
 ],
 "metadata": {
  "kernelspec": {
   "display_name": "Python 3",
   "language": "python",
   "name": "python3"
  },
  "language_info": {
   "codemirror_mode": {
    "name": "ipython",
    "version": 3
   },
   "file_extension": ".py",
   "mimetype": "text/x-python",
   "name": "python",
   "nbconvert_exporter": "python",
   "pygments_lexer": "ipython3",
   "version": "3.10.6"
  }
 },
 "nbformat": 4,
 "nbformat_minor": 2
}
